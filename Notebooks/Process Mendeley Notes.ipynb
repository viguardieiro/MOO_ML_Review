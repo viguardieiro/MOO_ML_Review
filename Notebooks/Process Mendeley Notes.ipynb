{
 "cells": [
  {
   "cell_type": "code",
   "execution_count": null,
   "metadata": {},
   "outputs": [],
   "source": [
    "import pandas as pd\n",
    "import bibtexparser\n",
    "import ast\n",
    "import numpy as np\n",
    "\n",
    "info = ['title', 'author', 'year', 'publisher', 'doi']"
   ]
  },
  {
   "cell_type": "code",
   "execution_count": null,
   "metadata": {},
   "outputs": [],
   "source": [
    "with open(f\"../Data/Mendeley Notes.bib\") as bibtex_file:\n",
    "    bib_database = bibtexparser.load(bibtex_file)\n",
    "\n",
    "df = pd.DataFrame(bib_database.entries)\n",
    "\n",
    "df = df.replace(r'\\n',' ', regex=True) \n",
    "df['note'] = df['note'].str.replace('\"',\"'\") \n",
    "df['note'] = df['note'].str.replace('\\\\',\"\") \n",
    "df['note'] = df['note'].str.replace('<br/>','')\n",
    "df['note'] = df['note'].str.replace('obs','Obs')\n",
    "df['note'] = df['note'].str.replace('comment','Obs')"
   ]
  },
  {
   "cell_type": "code",
   "execution_count": null,
   "metadata": {},
   "outputs": [],
   "source": [
    "list_dict = []\n",
    "i = 1\n",
    "\n",
    "for index,row in df.iterrows():\n",
    "    row_dict = ast.literal_eval(row['note'])\n",
    "\n",
    "    for iinfo in info:\n",
    "        row_dict[iinfo] = row[iinfo]\n",
    "\n",
    "    if row_dict['id']!=i:\n",
    "        i = row_dict['id']\n",
    "    \n",
    "    list_dict.append(row_dict)\n",
    "    i += 1\n",
    "\n",
    "notes_df = pd.DataFrame(list_dict)"
   ]
  },
  {
   "cell_type": "code",
   "execution_count": null,
   "metadata": {},
   "outputs": [],
   "source": [
    "papers_df = pd.read_csv('../Data/Papers - After Abstract Filter.csv')"
   ]
  },
  {
   "cell_type": "code",
   "execution_count": null,
   "metadata": {},
   "outputs": [],
   "source": [
    "papers_df['Title'] = papers_df['Title'].str.lower()\n",
    "notes_df['title'] = notes_df['title'].str.lower()"
   ]
  },
  {
   "cell_type": "code",
   "execution_count": null,
   "metadata": {},
   "outputs": [],
   "source": [
    "full_df = papers_df.join(notes_df.set_index('title'), on='Title')\n",
    "full_df['id'].count()"
   ]
  },
  {
   "cell_type": "code",
   "execution_count": null,
   "metadata": {},
   "outputs": [],
   "source": [
    "full_df[full_df['id'].isna()]"
   ]
  },
  {
   "cell_type": "code",
   "execution_count": null,
   "metadata": {},
   "outputs": [],
   "source": [
    "full_df.to_csv('../Data/Papers - With Notes (incomplete).csv')"
   ]
  },
  {
   "cell_type": "code",
   "execution_count": null,
   "metadata": {},
   "outputs": [],
   "source": [
    "manual_map = {'papers_id': [0, 14, 27, 139, 149, 159],\n",
    "                'notes_id': [1, 12, 21, 121, 130, 139]}"
   ]
  },
  {
   "cell_type": "code",
   "execution_count": null,
   "metadata": {},
   "outputs": [],
   "source": [
    "bib_ids_not_in_notesdf = [5, 19, 20, 22, 33, 53, 57, 69, 81, 88, 89, 94,\n",
    "                        125, 128, 140, 155, 166]\n",
    "papers_id_not_in_bib = [19, 95, 152]"
   ]
  },
  {
   "cell_type": "code",
   "execution_count": null,
   "metadata": {},
   "outputs": [],
   "source": [
    "comp_df = pd.read_csv('../Data/Papers - With Notes (manually completed).csv')\n",
    "#comp_df.drop('Unnamed: 0', axis=1, inplace=True)\n",
    "\n",
    "comp_df = comp_df.replace(r'\\n',' ', regex=True) \n",
    "col_notes = ['Optimization','ML task','Objective functions']\n",
    "for col in col_notes:\n",
    "    comp_df[col] = comp_df[col].str.replace('\"',\"'\") \n",
    "    comp_df[col] = comp_df[col].str.replace('\\\\',\"\") \n",
    "    comp_df[col] = comp_df[col].str.replace('<br/>','')\n",
    "\n",
    "comp_df.to_csv('../Data/Papers - With Notes (manually completed).csv', index=False)"
   ]
  },
  {
   "cell_type": "code",
   "execution_count": null,
   "metadata": {},
   "outputs": [],
   "source": [
    "total = comp_df.shape[0]\n",
    "mantidos = comp_df[comp_df['keep']==True].shape[0]\n",
    "removidos = comp_df[comp_df['keep']==False].shape[0]\n",
    "faltando = comp_df[comp_df['keep'].isnull()].shape[0]\n",
    "\n",
    "print(f\"Total de papers: {total}\")\n",
    "print(f\"Papers mantidos: {mantidos}/{total} - {mantidos/total*100:.1f}%\")\n",
    "print(f\"Papers removidos: {removidos}/{total} - {removidos/total*100:.1f}%\")\n",
    "print(f\"Papers a analisar: {faltando}/{total} - {faltando/total*100:.1f}%\")"
   ]
  },
  {
   "cell_type": "code",
   "execution_count": null,
   "metadata": {},
   "outputs": [],
   "source": [
    "comp_df[comp_df['keep'].isnull()]"
   ]
  },
  {
   "cell_type": "code",
   "execution_count": null,
   "metadata": {},
   "outputs": [],
   "source": [
    "sel_df = full_df[comp_df['keep']==True].copy()\n",
    "sel_df.drop(['doi','keep','author','year','publisher','Obs','Remove - Abstract'], axis=1, inplace=True)\n",
    "sel_df.to_csv('../Data/Papers - After Content Filter.csv', index=False)"
   ]
  },
  {
   "cell_type": "code",
   "execution_count": null,
   "metadata": {},
   "outputs": [],
   "source": []
  }
 ],
 "metadata": {
  "kernelspec": {
   "display_name": "Python 3.8.10 64-bit",
   "language": "python",
   "name": "python3"
  },
  "language_info": {
   "codemirror_mode": {
    "name": "ipython",
    "version": 3
   },
   "file_extension": ".py",
   "mimetype": "text/x-python",
   "name": "python",
   "nbconvert_exporter": "python",
   "pygments_lexer": "ipython3",
   "version": "3.8.10"
  },
  "orig_nbformat": 4,
  "vscode": {
   "interpreter": {
    "hash": "916dbcbb3f70747c44a77c7bcd40155683ae19c65e1c03b4aa3499c5328201f1"
   }
  }
 },
 "nbformat": 4,
 "nbformat_minor": 2
}
