{
 "cells": [
  {
   "cell_type": "code",
   "execution_count": null,
   "metadata": {},
   "outputs": [],
   "source": [
    "import pandas as pd\n",
    "import bibtexparser\n",
    "import ast\n",
    "\n",
    "info = ['title', 'author', 'year', 'publisher', 'doi']"
   ]
  },
  {
   "cell_type": "code",
   "execution_count": null,
   "metadata": {},
   "outputs": [],
   "source": [
    "with open(f\"../Data/Mendeley Notes.bib\") as bibtex_file:\n",
    "    bib_database = bibtexparser.load(bibtex_file)\n",
    "\n",
    "df = pd.DataFrame(bib_database.entries)\n",
    "\n",
    "df = df.replace(r'\\n',' ', regex=True) \n",
    "df['note'] = df['note'].str.replace('\"',\"'\") \n",
    "df['note'] = df['note'].str.replace('\\\\',\"\") \n",
    "df['note'] = df['note'].str.replace('<br/>','')\n",
    "df['note'] = df['note'].str.replace('obs','Obs')\n",
    "df['note'] = df['note'].str.replace('comment','Obs')"
   ]
  },
  {
   "cell_type": "code",
   "execution_count": null,
   "metadata": {},
   "outputs": [],
   "source": [
    "list_dict = []\n",
    "i = 1\n",
    "\n",
    "for index,row in df.iterrows():\n",
    "    row_dict = ast.literal_eval(row['note'])\n",
    "\n",
    "    for iinfo in info:\n",
    "        row_dict[iinfo] = row[iinfo]\n",
    "\n",
    "    if row_dict['id']!=i:\n",
    "        i = row_dict['id']\n",
    "    \n",
    "    list_dict.append(row_dict)\n",
    "    i += 1\n",
    "\n",
    "notes_df = pd.DataFrame(list_dict)"
   ]
  },
  {
   "cell_type": "code",
   "execution_count": null,
   "metadata": {},
   "outputs": [],
   "source": [
    "papers_df = pd.read_csv('../Data/Papers - After Abstract Filter.csv')"
   ]
  },
  {
   "cell_type": "code",
   "execution_count": null,
   "metadata": {},
   "outputs": [],
   "source": [
    "papers_df['Title'] = papers_df['Title'].str.lower()\n",
    "notes_df['title'] = notes_df['title'].str.lower()"
   ]
  },
  {
   "cell_type": "code",
   "execution_count": null,
   "metadata": {},
   "outputs": [],
   "source": [
    "full_df_title = papers_df.join(notes_df.set_index('title'), on='Title')\n",
    "full_df_title['id'].count()"
   ]
  },
  {
   "cell_type": "code",
   "execution_count": null,
   "metadata": {},
   "outputs": [],
   "source": [
    "full_df_title"
   ]
  },
  {
   "cell_type": "code",
   "execution_count": null,
   "metadata": {},
   "outputs": [],
   "source": [
    "full_df_title[full_df_title['id'].isna()]"
   ]
  },
  {
   "cell_type": "code",
   "execution_count": null,
   "metadata": {},
   "outputs": [],
   "source": []
  }
 ],
 "metadata": {
  "kernelspec": {
   "display_name": "Python 3.8.10 64-bit",
   "language": "python",
   "name": "python3"
  },
  "language_info": {
   "codemirror_mode": {
    "name": "ipython",
    "version": 3
   },
   "file_extension": ".py",
   "mimetype": "text/x-python",
   "name": "python",
   "nbconvert_exporter": "python",
   "pygments_lexer": "ipython3",
   "version": "3.8.10"
  },
  "orig_nbformat": 4,
  "vscode": {
   "interpreter": {
    "hash": "916dbcbb3f70747c44a77c7bcd40155683ae19c65e1c03b4aa3499c5328201f1"
   }
  }
 },
 "nbformat": 4,
 "nbformat_minor": 2
}
