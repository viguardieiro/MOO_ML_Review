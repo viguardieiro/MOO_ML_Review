{
 "cells": [
  {
   "cell_type": "code",
   "execution_count": 1,
   "id": "b3dfee48",
   "metadata": {},
   "outputs": [],
   "source": [
    "from IPython.display import clear_output\n",
    "import pandas as pd\n",
    "import numpy as np\n",
    "import time"
   ]
  },
  {
   "cell_type": "code",
   "execution_count": 2,
   "id": "ced158b3",
   "metadata": {},
   "outputs": [],
   "source": [
    "df = pd.read_csv('../Data/Papers - Initial.csv')\n",
    "df['Remove - Title'] = None"
   ]
  },
  {
   "cell_type": "code",
   "execution_count": 21,
   "id": "7bc0e318",
   "metadata": {},
   "outputs": [
    {
     "name": "stdout",
     "output_type": "stream",
     "text": [
      "\n",
      "Paper: 1595/1596\n",
      "\n",
      "Hardware Optimizations of Dense Binary Hyperdimensional Computing: Rematerialization of Hypervectors, Binarized Bundling, and Combinational Associative Memory\n",
      "\n",
      "Keywords:\n",
      "binarized temporal bundling, biosignals, rematerialization, on-chip learning, single-cycle associative memory, electromyography, Hyperdimensional computing, FPGA\n",
      "\n",
      "Remove this paper? (0: No, 1:Yes)1\n"
     ]
    }
   ],
   "source": [
    "# cont = 0\n",
    "for i in range(df.shape[0]):\n",
    "    if df.loc[i,'Remove - Title']==0 or df.loc[i,'Remove - Title']==1:\n",
    "        continue\n",
    "        \n",
    "    cont += 1\n",
    "    if cont%10==0:\n",
    "        df.to_csv('../Papers - after title remove.csv', index=False)\n",
    "        \n",
    "    print()\n",
    "    print(f'Paper: {i}/{df.shape[0]}')\n",
    "    print()\n",
    "    print(df.loc[i,'Title'])\n",
    "    print()\n",
    "    print('Keywords:')\n",
    "    print(df.loc[i,'Keywords'])\n",
    "    print()\n",
    "\n",
    "    time.sleep(2)\n",
    "    remove = input(\"Remove this paper? (0: No, 1:Yes)\")\n",
    "\n",
    "    if remove=='stop':\n",
    "        clear_output(wait=True)\n",
    "        df.to_csv('../Papers - after title remove.csv', index=False)\n",
    "        break\n",
    "    elif remove=='return':\n",
    "        clear_output(wait=True)\n",
    "        print(f'Paper: {i-1}/{df.shape[0]}')\n",
    "        print()\n",
    "        print('Title:')\n",
    "        print(df.loc[i-1,'Title'])\n",
    "        print()\n",
    "        print('Keywords:')\n",
    "        print(df.loc[i-1,'Keywords'])\n",
    "        print()\n",
    "\n",
    "        time.sleep(2)\n",
    "        remove = input(\"Remove this paper? (0: No, 1:Yes) \")\n",
    "        df.loc[i-1,'Remove - Title'] = int(remove)\n",
    "    else:\n",
    "        df.loc[i,'Remove - Title'] = int(remove)\n",
    "        \n",
    "    clear_output(wait=True)"
   ]
  },
  {
   "cell_type": "code",
   "execution_count": 80,
   "id": "146fc86b",
   "metadata": {},
   "outputs": [
    {
     "name": "stdout",
     "output_type": "stream",
     "text": [
      "Removidos: 122/512\n",
      "Mantidos: 390/512\n"
     ]
    }
   ],
   "source": [
    "proc_total = df_fil[(df_fil['Remove - Title']==0) | (df_fil['Remove - Title']==1)].shape[0]\n",
    "print(f\"Removidos: {df_fil[df_fil['Remove - Title']==1].shape[0]}/{proc_total}\")\n",
    "print(f\"Mantidos: {df_fil[df_fil['Remove - Title']==0].shape[0]}/{proc_total}\")"
   ]
  },
  {
   "cell_type": "code",
   "execution_count": 82,
   "id": "d019e043",
   "metadata": {},
   "outputs": [],
   "source": [
    "df_fil[df_fil['Remove - Title']==0].to_csv('../Data/Papers - After Title Filter.csv', index=False)"
   ]
  },
  {
   "cell_type": "code",
   "execution_count": null,
   "id": "d247f1ab",
   "metadata": {},
   "outputs": [],
   "source": []
  }
 ],
 "metadata": {
  "kernelspec": {
   "display_name": "Python 3 (ipykernel)",
   "language": "python",
   "name": "python3"
  },
  "language_info": {
   "codemirror_mode": {
    "name": "ipython",
    "version": 3
   },
   "file_extension": ".py",
   "mimetype": "text/x-python",
   "name": "python",
   "nbconvert_exporter": "python",
   "pygments_lexer": "ipython3",
   "version": "3.9.7"
  }
 },
 "nbformat": 4,
 "nbformat_minor": 5
}
