{
 "cells": [
  {
   "cell_type": "code",
   "execution_count": null,
   "metadata": {},
   "outputs": [],
   "source": [
    "import pandas as pd\n",
    "from tqdm import tqdm\n",
    "import time\n",
    "import requests\n",
    "from IPython.display import clear_output\n",
    "\n",
    "from semanticscholar import SemanticScholar\n",
    "\n",
    "sch = SemanticScholar(timeout=2)"
   ]
  },
  {
   "cell_type": "code",
   "execution_count": null,
   "metadata": {},
   "outputs": [],
   "source": [
    "papers_df = pd.read_csv('../Data/Papers - After Content Filter.csv')\n",
    "influent_list = []"
   ]
  },
  {
   "cell_type": "markdown",
   "metadata": {},
   "source": [
    "## Get Influential References from Semantic Scholar"
   ]
  },
  {
   "cell_type": "code",
   "execution_count": null,
   "metadata": {},
   "outputs": [],
   "source": [
    "papers_df['SSCitations'] = 0\n",
    "c = 0\n",
    "for index, row in tqdm(papers_df.iterrows(), total=papers_df.shape[0]):\n",
    "    paper = sch.paper(row['DOI'])\n",
    "\n",
    "    papers_df.loc[index,'SSCitations'] = len(paper['citations'])\n",
    "\n",
    "    infl_count = 0\n",
    "    for ref in paper['references']:\n",
    "        if ref['isInfluential'] and ref['doi'] is not None:\n",
    "            influent_list.append({'Orig DOI': row['DOI'],'Ref DOI': ref['doi'], 'Ref Title': ref['title']})\n",
    "            infl_count += 1\n",
    "    \n",
    "    c+=1\n",
    "    if c%50==0:\n",
    "        print('Waiting 150 seconds...')\n",
    "        time.sleep(150)\n",
    "\n",
    "papers_df.to_csv('../Data/Papers - After Content Filter with SSCitations.csv', index=False)"
   ]
  },
  {
   "cell_type": "code",
   "execution_count": null,
   "metadata": {},
   "outputs": [],
   "source": [
    "influent_df = pd.DataFrame(influent_list)\n",
    "\n",
    "print(f\"Total Influential References: {influent_df.shape[0]}\")\n",
    "print(f\"Unique Influential References: {len(influent_df['Ref DOI'].unique())}\")"
   ]
  },
  {
   "cell_type": "markdown",
   "metadata": {},
   "source": [
    "## Get Info of Influential References"
   ]
  },
  {
   "cell_type": "code",
   "execution_count": null,
   "metadata": {},
   "outputs": [],
   "source": [
    "sch = SemanticScholar(timeout=5)\n",
    "\n",
    "df = influent_df.drop('Orig DOI', axis=1)\n",
    "df = df[df.duplicated(keep='first')==False]\n",
    "\n",
    "ref_list = []\n",
    "\n",
    "c = 0\n",
    "for index, row in tqdm(df.iterrows(), total=df.shape[0]):\n",
    "    try:\n",
    "        paper = sch.paper(row['Ref DOI'])\n",
    "    except requests.exceptions.ReadTimeout:\n",
    "        print(f\"ReadTimeout occured at id {index}\")\n",
    "        continue\n",
    "\n",
    "    try:\n",
    "        ref_list.append({'Title': paper['title'],\n",
    "                        'DOI': paper['doi'], \n",
    "                        'Topics': paper['topics'],\n",
    "                        'Venue': paper['venue'],\n",
    "                        'Year': paper['year'],\n",
    "                        'Abstract': paper['abstract']})\n",
    "    except:\n",
    "        print(f\"Error in {index}\")\n",
    "    \n",
    "    c+=1\n",
    "    if c%50==0:\n",
    "        print('Waiting 150 seconds...')\n",
    "        time.sleep(150)\n"
   ]
  },
  {
   "cell_type": "code",
   "execution_count": null,
   "metadata": {},
   "outputs": [],
   "source": [
    "ref_df = pd.DataFrame(ref_list)\n",
    "new_papers = list(set(ref_df['DOI'])-set(papers_df['DOI']))\n",
    "ref_df = ref_df[ref_df['DOI'].isin(new_papers)]\n",
    "ref_df.to_csv('../Data/Influential papers.csv')\n",
    "ref_df"
   ]
  },
  {
   "cell_type": "markdown",
   "metadata": {},
   "source": [
    "## Filter Influential References by Title and Abstract"
   ]
  },
  {
   "cell_type": "code",
   "execution_count": null,
   "metadata": {},
   "outputs": [],
   "source": [
    "ref_df['Remove'] = None\n",
    "\n",
    "for index, row in ref_df.iterrows():\n",
    "    print()\n",
    "    print(f\"Title: {row['Title']}\")\n",
    "    print()\n",
    "    print(f\"Topics:\")\n",
    "    print(row['Topics'])\n",
    "    print()\n",
    "    print('Abstract: ')\n",
    "    print(row['Abstract'])\n",
    "\n",
    "    time.sleep(2)\n",
    "    remove = input(\"Remove this paper? (0: No, 1:Yes)\")\n",
    "\n",
    "    if remove=='stop':\n",
    "        clear_output(wait=True)\n",
    "        break\n",
    "    else:\n",
    "        ref_df.loc[index,'Remove'] = int(remove)\n",
    "\n",
    "    clear_output(wait=True)"
   ]
  },
  {
   "cell_type": "code",
   "execution_count": null,
   "metadata": {},
   "outputs": [],
   "source": [
    "ref_df = ref_df[ref_df['Remove']==0]\n",
    "ref_df.to_csv('../Data/Influential papers.csv', index=False)"
   ]
  },
  {
   "cell_type": "markdown",
   "metadata": {},
   "source": [
    "## Agregate New Papers"
   ]
  },
  {
   "cell_type": "code",
   "execution_count": null,
   "metadata": {},
   "outputs": [],
   "source": [
    "ref_df = pd.read_csv('../Data/Influential papers.csv')\n",
    "ref_df = ref_df[ref_df['keep']==True]\n",
    "ref_df['Publisher'] = ref_df['Venue']\n",
    "ref_df = ref_df.drop(['Topics','Remove','keep','Venue','id'], axis=1)"
   ]
  },
  {
   "cell_type": "code",
   "execution_count": null,
   "metadata": {},
   "outputs": [],
   "source": [
    "papers_df = pd.read_csv('../Data/Papers - After Content Filter with SSCitations.csv')\n",
    "papers_df = papers_df.drop('Unnamed: 0', axis=1)\n",
    "papers_df = papers_df.append(ref_df)\n",
    "\n",
    "papers_df.to_csv('../Data/Papers - After Snowballing.csv', index=False)"
   ]
  },
  {
   "cell_type": "code",
   "execution_count": null,
   "metadata": {},
   "outputs": [],
   "source": []
  }
 ],
 "metadata": {
  "kernelspec": {
   "display_name": "Python 3.8.10 64-bit",
   "language": "python",
   "name": "python3"
  },
  "language_info": {
   "codemirror_mode": {
    "name": "ipython",
    "version": 3
   },
   "file_extension": ".py",
   "mimetype": "text/x-python",
   "name": "python",
   "nbconvert_exporter": "python",
   "pygments_lexer": "ipython3",
   "version": "3.8.10"
  },
  "orig_nbformat": 4,
  "vscode": {
   "interpreter": {
    "hash": "916dbcbb3f70747c44a77c7bcd40155683ae19c65e1c03b4aa3499c5328201f1"
   }
  }
 },
 "nbformat": 4,
 "nbformat_minor": 2
}
