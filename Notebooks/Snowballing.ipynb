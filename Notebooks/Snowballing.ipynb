{
 "cells": [
  {
   "cell_type": "code",
   "execution_count": 24,
   "metadata": {},
   "outputs": [],
   "source": [
    "import pandas as pd\n",
    "from tqdm import tqdm\n",
    "import time\n",
    "import requests\n",
    "\n",
    "from semanticscholar import SemanticScholar\n",
    "\n",
    "sch = SemanticScholar(timeout=2)"
   ]
  },
  {
   "cell_type": "code",
   "execution_count": 2,
   "metadata": {},
   "outputs": [],
   "source": [
    "papers_df = pd.read_csv('../Data/Papers - After Content Filter.csv')\n",
    "influent_list = []"
   ]
  },
  {
   "cell_type": "code",
   "execution_count": 3,
   "metadata": {},
   "outputs": [
    {
     "name": "stderr",
     "output_type": "stream",
     "text": [
      " 34%|███▍      | 49/145 [00:42<01:29,  1.07it/s]"
     ]
    },
    {
     "name": "stdout",
     "output_type": "stream",
     "text": [
      "Waiting 150 seconds...\n"
     ]
    },
    {
     "name": "stderr",
     "output_type": "stream",
     "text": [
      " 68%|██████▊   | 99/145 [03:53<00:40,  1.12it/s]  "
     ]
    },
    {
     "name": "stdout",
     "output_type": "stream",
     "text": [
      "Waiting 150 seconds...\n"
     ]
    },
    {
     "name": "stderr",
     "output_type": "stream",
     "text": [
      "100%|██████████| 145/145 [06:58<00:00,  2.89s/it]\n"
     ]
    }
   ],
   "source": [
    "papers_df['SSCitations'] = 0\n",
    "c = 0\n",
    "for index, row in tqdm(papers_df.iterrows(), total=papers_df.shape[0]):\n",
    "    paper = sch.paper(row['DOI'])\n",
    "\n",
    "    papers_df.loc[index,'SSCitations'] = len(paper['citations'])\n",
    "\n",
    "    infl_count = 0\n",
    "    for ref in paper['references']:\n",
    "        if ref['isInfluential'] and ref['doi'] is not None:\n",
    "            influent_list.append({'Orig DOI': row['DOI'],'Ref DOI': ref['doi'], 'Ref Title': ref['title']})\n",
    "            infl_count += 1\n",
    "    \n",
    "    c+=1\n",
    "    if c%50==0:\n",
    "        print('Waiting 150 seconds...')\n",
    "        time.sleep(150)\n"
   ]
  },
  {
   "cell_type": "code",
   "execution_count": 4,
   "metadata": {},
   "outputs": [
    {
     "name": "stdout",
     "output_type": "stream",
     "text": [
      "Total Influential References: 242\n",
      "Unique Influential References: 207\n"
     ]
    }
   ],
   "source": [
    "influent_df = pd.DataFrame(influent_list)\n",
    "\n",
    "print(f\"Total Influential References: {influent_df.shape[0]}\")\n",
    "print(f\"Unique Influential References: {len(influent_df['Ref DOI'].unique())}\")"
   ]
  },
  {
   "cell_type": "code",
   "execution_count": 5,
   "metadata": {},
   "outputs": [
    {
     "data": {
      "text/html": [
       "<div>\n",
       "<style scoped>\n",
       "    .dataframe tbody tr th:only-of-type {\n",
       "        vertical-align: middle;\n",
       "    }\n",
       "\n",
       "    .dataframe tbody tr th {\n",
       "        vertical-align: top;\n",
       "    }\n",
       "\n",
       "    .dataframe thead th {\n",
       "        text-align: right;\n",
       "    }\n",
       "</style>\n",
       "<table border=\"1\" class=\"dataframe\">\n",
       "  <thead>\n",
       "    <tr style=\"text-align: right;\">\n",
       "      <th></th>\n",
       "      <th>Orig DOI</th>\n",
       "      <th>Ref DOI</th>\n",
       "      <th>Ref Title</th>\n",
       "    </tr>\n",
       "  </thead>\n",
       "  <tbody>\n",
       "    <tr>\n",
       "      <th>0</th>\n",
       "      <td>10.1007/978-3-540-24581-0_47</td>\n",
       "      <td>10.1109/4235.887237</td>\n",
       "      <td>Evolutionary ensembles with negative correlati...</td>\n",
       "    </tr>\n",
       "    <tr>\n",
       "      <th>1</th>\n",
       "      <td>10.1007/978-3-540-24581-0_47</td>\n",
       "      <td>10.1080/00401706.1995.10484383</td>\n",
       "      <td>Machine Learning, Neural and Statistical Class...</td>\n",
       "    </tr>\n",
       "    <tr>\n",
       "      <th>2</th>\n",
       "      <td>10.1109/TEVC.2005.844158</td>\n",
       "      <td>10.1016/b978-1-55860-377-6.50046-3</td>\n",
       "      <td>Error-Correcting Output Coding Corrects Bias a...</td>\n",
       "    </tr>\n",
       "    <tr>\n",
       "      <th>3</th>\n",
       "      <td>10.1109/TEVC.2005.844158</td>\n",
       "      <td>10.1023/A:1022648800760</td>\n",
       "      <td>The Strength of Weak Learnability</td>\n",
       "    </tr>\n",
       "    <tr>\n",
       "      <th>4</th>\n",
       "      <td>10.1109/TEVC.2005.844158</td>\n",
       "      <td>10.1023/A:1007659514849</td>\n",
       "      <td>MultiBoosting: A Technique for Combining Boost...</td>\n",
       "    </tr>\n",
       "    <tr>\n",
       "      <th>...</th>\n",
       "      <td>...</td>\n",
       "      <td>...</td>\n",
       "      <td>...</td>\n",
       "    </tr>\n",
       "    <tr>\n",
       "      <th>237</th>\n",
       "      <td>10.1007/s10618-021-00781-5</td>\n",
       "      <td>10.1007/s10115-011-0400-x</td>\n",
       "      <td>Early classification on time series</td>\n",
       "    </tr>\n",
       "    <tr>\n",
       "      <th>238</th>\n",
       "      <td>10.1002/int.22354</td>\n",
       "      <td>10.1145/3287560.3287589</td>\n",
       "      <td>A comparative study of fairness-enhancing inte...</td>\n",
       "    </tr>\n",
       "    <tr>\n",
       "      <th>239</th>\n",
       "      <td>10.1016/j.cor.2021.105676</td>\n",
       "      <td>10.1109/5.726791</td>\n",
       "      <td>Gradient-based learning applied to document re...</td>\n",
       "    </tr>\n",
       "    <tr>\n",
       "      <th>240</th>\n",
       "      <td>10.1016/j.cor.2021.105676</td>\n",
       "      <td>10.1007/S10479-021-04033-Z</td>\n",
       "      <td>The stochastic multi-gradient algorithm for mu...</td>\n",
       "    </tr>\n",
       "    <tr>\n",
       "      <th>241</th>\n",
       "      <td>10.1016/j.cor.2021.105676</td>\n",
       "      <td>10.1145/3295500.3356156</td>\n",
       "      <td>PruneTrain: fast neural network training by dy...</td>\n",
       "    </tr>\n",
       "  </tbody>\n",
       "</table>\n",
       "<p>242 rows × 3 columns</p>\n",
       "</div>"
      ],
      "text/plain": [
       "                         Orig DOI                             Ref DOI  \\\n",
       "0    10.1007/978-3-540-24581-0_47                 10.1109/4235.887237   \n",
       "1    10.1007/978-3-540-24581-0_47      10.1080/00401706.1995.10484383   \n",
       "2        10.1109/TEVC.2005.844158  10.1016/b978-1-55860-377-6.50046-3   \n",
       "3        10.1109/TEVC.2005.844158             10.1023/A:1022648800760   \n",
       "4        10.1109/TEVC.2005.844158             10.1023/A:1007659514849   \n",
       "..                            ...                                 ...   \n",
       "237    10.1007/s10618-021-00781-5           10.1007/s10115-011-0400-x   \n",
       "238             10.1002/int.22354             10.1145/3287560.3287589   \n",
       "239     10.1016/j.cor.2021.105676                    10.1109/5.726791   \n",
       "240     10.1016/j.cor.2021.105676          10.1007/S10479-021-04033-Z   \n",
       "241     10.1016/j.cor.2021.105676             10.1145/3295500.3356156   \n",
       "\n",
       "                                             Ref Title  \n",
       "0    Evolutionary ensembles with negative correlati...  \n",
       "1    Machine Learning, Neural and Statistical Class...  \n",
       "2    Error-Correcting Output Coding Corrects Bias a...  \n",
       "3                    The Strength of Weak Learnability  \n",
       "4    MultiBoosting: A Technique for Combining Boost...  \n",
       "..                                                 ...  \n",
       "237                Early classification on time series  \n",
       "238  A comparative study of fairness-enhancing inte...  \n",
       "239  Gradient-based learning applied to document re...  \n",
       "240  The stochastic multi-gradient algorithm for mu...  \n",
       "241  PruneTrain: fast neural network training by dy...  \n",
       "\n",
       "[242 rows x 3 columns]"
      ]
     },
     "execution_count": 5,
     "metadata": {},
     "output_type": "execute_result"
    }
   ],
   "source": [
    "influent_df"
   ]
  },
  {
   "cell_type": "code",
   "execution_count": 7,
   "metadata": {},
   "outputs": [],
   "source": [
    "papers_df.to_csv('../Data/Papers - After Content Filter with SSCitations.csv')"
   ]
  },
  {
   "cell_type": "code",
   "execution_count": 26,
   "metadata": {},
   "outputs": [
    {
     "name": "stderr",
     "output_type": "stream",
     "text": [
      " 24%|██▎       | 49/207 [01:53<03:46,  1.43s/it]"
     ]
    },
    {
     "name": "stdout",
     "output_type": "stream",
     "text": [
      "Waiting 150 seconds...\n"
     ]
    },
    {
     "name": "stderr",
     "output_type": "stream",
     "text": [
      " 27%|██▋       | 56/207 [04:45<20:10,  8.01s/it]  "
     ]
    },
    {
     "name": "stdout",
     "output_type": "stream",
     "text": [
      "ReadTimeout occured at id 60\n"
     ]
    },
    {
     "name": "stderr",
     "output_type": "stream",
     "text": [
      " 47%|████▋     | 98/207 [06:36<02:36,  1.44s/it]"
     ]
    },
    {
     "name": "stdout",
     "output_type": "stream",
     "text": [
      "Error in 111\n"
     ]
    },
    {
     "name": "stderr",
     "output_type": "stream",
     "text": [
      " 48%|████▊     | 100/207 [06:39<02:56,  1.65s/it]"
     ]
    },
    {
     "name": "stdout",
     "output_type": "stream",
     "text": [
      "Waiting 150 seconds...\n"
     ]
    },
    {
     "name": "stderr",
     "output_type": "stream",
     "text": [
      " 54%|█████▎    | 111/207 [09:27<04:38,  2.90s/it]  "
     ]
    },
    {
     "name": "stdout",
     "output_type": "stream",
     "text": [
      "Error in 129\n"
     ]
    },
    {
     "name": "stderr",
     "output_type": "stream",
     "text": [
      " 70%|██████▉   | 144/207 [10:47<01:19,  1.26s/it]"
     ]
    },
    {
     "name": "stdout",
     "output_type": "stream",
     "text": [
      "Error in 165\n"
     ]
    },
    {
     "name": "stderr",
     "output_type": "stream",
     "text": [
      " 72%|███████▏  | 150/207 [10:56<02:00,  2.12s/it]"
     ]
    },
    {
     "name": "stdout",
     "output_type": "stream",
     "text": [
      "Waiting 150 seconds...\n"
     ]
    },
    {
     "name": "stderr",
     "output_type": "stream",
     "text": [
      " 97%|█████████▋| 200/207 [15:06<00:06,  1.08it/s]"
     ]
    },
    {
     "name": "stdout",
     "output_type": "stream",
     "text": [
      "Waiting 150 seconds...\n"
     ]
    },
    {
     "name": "stderr",
     "output_type": "stream",
     "text": [
      "100%|██████████| 207/207 [17:43<00:00,  5.14s/it]\n"
     ]
    }
   ],
   "source": [
    "sch = SemanticScholar(timeout=5)\n",
    "\n",
    "df = influent_df.drop('Orig DOI', axis=1)\n",
    "df = df[df.duplicated(keep='first')==False]\n",
    "\n",
    "ref_list = []\n",
    "\n",
    "c = 0\n",
    "for index, row in tqdm(df.iterrows(), total=df.shape[0]):\n",
    "    try:\n",
    "        paper = sch.paper(row['Ref DOI'])\n",
    "    except requests.exceptions.ReadTimeout:\n",
    "        print(f\"ReadTimeout occured at id {index}\")\n",
    "        continue\n",
    "\n",
    "    try:\n",
    "        ref_list.append({'Title': paper['title'],\n",
    "                        'DOI': paper['doi'], \n",
    "                        'Topics': paper['topics'],\n",
    "                        'Venue': paper['venue'],\n",
    "                        'Year': paper['year'],\n",
    "                        'Abstract': paper['abstract']})\n",
    "    except:\n",
    "        print(f\"Error in {index}\")\n",
    "    \n",
    "    c+=1\n",
    "    if c%50==0:\n",
    "        print('Waiting 150 seconds...')\n",
    "        time.sleep(150)\n"
   ]
  },
  {
   "cell_type": "code",
   "execution_count": 27,
   "metadata": {},
   "outputs": [
    {
     "data": {
      "text/html": [
       "<div>\n",
       "<style scoped>\n",
       "    .dataframe tbody tr th:only-of-type {\n",
       "        vertical-align: middle;\n",
       "    }\n",
       "\n",
       "    .dataframe tbody tr th {\n",
       "        vertical-align: top;\n",
       "    }\n",
       "\n",
       "    .dataframe thead th {\n",
       "        text-align: right;\n",
       "    }\n",
       "</style>\n",
       "<table border=\"1\" class=\"dataframe\">\n",
       "  <thead>\n",
       "    <tr style=\"text-align: right;\">\n",
       "      <th></th>\n",
       "      <th>Title</th>\n",
       "      <th>DOI</th>\n",
       "      <th>Topics</th>\n",
       "      <th>Venue</th>\n",
       "      <th>Year</th>\n",
       "      <th>Abstract</th>\n",
       "    </tr>\n",
       "  </thead>\n",
       "  <tbody>\n",
       "    <tr>\n",
       "      <th>0</th>\n",
       "      <td>Evolutionary ensembles with negative correlati...</td>\n",
       "      <td>10.1109/4235.887237</td>\n",
       "      <td>[{'topic': 'Neural Network Simulation', 'topic...</td>\n",
       "      <td>IEEE Trans. Evol. Comput.</td>\n",
       "      <td>2000</td>\n",
       "      <td>Based on negative correlation learning and evo...</td>\n",
       "    </tr>\n",
       "    <tr>\n",
       "      <th>1</th>\n",
       "      <td>Machine Learning, Neural and Statistical Class...</td>\n",
       "      <td>10.1080/00401706.1995.10484383</td>\n",
       "      <td>[]</td>\n",
       "      <td></td>\n",
       "      <td>1995</td>\n",
       "      <td>None</td>\n",
       "    </tr>\n",
       "    <tr>\n",
       "      <th>2</th>\n",
       "      <td>Error-Correcting Output Coding Corrects Bias a...</td>\n",
       "      <td>10.1016/b978-1-55860-377-6.50046-3</td>\n",
       "      <td>[{'topic': 'Supervised learning', 'topicId': '...</td>\n",
       "      <td>ICML</td>\n",
       "      <td>1995</td>\n",
       "      <td>None</td>\n",
       "    </tr>\n",
       "    <tr>\n",
       "      <th>3</th>\n",
       "      <td>The strength of weak learnability</td>\n",
       "      <td>10.1023/A:1022648800760</td>\n",
       "      <td>[{'topic': 'Learnability', 'topicId': '4569', ...</td>\n",
       "      <td>30th Annual Symposium on Foundations of Comput...</td>\n",
       "      <td>1989</td>\n",
       "      <td>None</td>\n",
       "    </tr>\n",
       "    <tr>\n",
       "      <th>4</th>\n",
       "      <td>MultiBoosting: A Technique for Combining Boost...</td>\n",
       "      <td>10.1023/A:1007659514849</td>\n",
       "      <td>[{'topic': 'AdaBoost', 'topicId': '33311', 'ur...</td>\n",
       "      <td>Machine Learning</td>\n",
       "      <td>2000</td>\n",
       "      <td>None</td>\n",
       "    </tr>\n",
       "    <tr>\n",
       "      <th>...</th>\n",
       "      <td>...</td>\n",
       "      <td>...</td>\n",
       "      <td>...</td>\n",
       "      <td>...</td>\n",
       "      <td>...</td>\n",
       "      <td>...</td>\n",
       "    </tr>\n",
       "    <tr>\n",
       "      <th>198</th>\n",
       "      <td>Early classification of time series using mult...</td>\n",
       "      <td>10.1016/J.INS.2019.04.024</td>\n",
       "      <td>[{'topic': 'Mathematical optimization', 'topic...</td>\n",
       "      <td>Inf. Sci.</td>\n",
       "      <td>2019</td>\n",
       "      <td>None</td>\n",
       "    </tr>\n",
       "    <tr>\n",
       "      <th>199</th>\n",
       "      <td>Early classification on time series</td>\n",
       "      <td>10.1007/s10115-011-0400-x</td>\n",
       "      <td>[{'topic': 'Time series', 'topicId': '1293', '...</td>\n",
       "      <td>Knowledge and Information Systems</td>\n",
       "      <td>2012</td>\n",
       "      <td>None</td>\n",
       "    </tr>\n",
       "    <tr>\n",
       "      <th>200</th>\n",
       "      <td>A comparative study of fairness-enhancing inte...</td>\n",
       "      <td>10.1145/3287560.3287589</td>\n",
       "      <td>[{'topic': 'Fairness measure', 'topicId': '923...</td>\n",
       "      <td>FAT</td>\n",
       "      <td>2018</td>\n",
       "      <td>Computers are increasingly used to make decisi...</td>\n",
       "    </tr>\n",
       "    <tr>\n",
       "      <th>201</th>\n",
       "      <td>The stochastic multi-gradient algorithm for mu...</td>\n",
       "      <td>10.1007/S10479-021-04033-Z</td>\n",
       "      <td>[{'topic': 'Algorithm', 'topicId': '305', 'url...</td>\n",
       "      <td>ArXiv</td>\n",
       "      <td>2019</td>\n",
       "      <td>None</td>\n",
       "    </tr>\n",
       "    <tr>\n",
       "      <th>202</th>\n",
       "      <td>PruneTrain</td>\n",
       "      <td>10.1145/3295500.3356156</td>\n",
       "      <td>[]</td>\n",
       "      <td>Proceedings of the International Conference fo...</td>\n",
       "      <td>2019</td>\n",
       "      <td>None</td>\n",
       "    </tr>\n",
       "  </tbody>\n",
       "</table>\n",
       "<p>203 rows × 6 columns</p>\n",
       "</div>"
      ],
      "text/plain": [
       "                                                 Title  \\\n",
       "0    Evolutionary ensembles with negative correlati...   \n",
       "1    Machine Learning, Neural and Statistical Class...   \n",
       "2    Error-Correcting Output Coding Corrects Bias a...   \n",
       "3                    The strength of weak learnability   \n",
       "4    MultiBoosting: A Technique for Combining Boost...   \n",
       "..                                                 ...   \n",
       "198  Early classification of time series using mult...   \n",
       "199                Early classification on time series   \n",
       "200  A comparative study of fairness-enhancing inte...   \n",
       "201  The stochastic multi-gradient algorithm for mu...   \n",
       "202                                         PruneTrain   \n",
       "\n",
       "                                    DOI  \\\n",
       "0                   10.1109/4235.887237   \n",
       "1        10.1080/00401706.1995.10484383   \n",
       "2    10.1016/b978-1-55860-377-6.50046-3   \n",
       "3               10.1023/A:1022648800760   \n",
       "4               10.1023/A:1007659514849   \n",
       "..                                  ...   \n",
       "198           10.1016/J.INS.2019.04.024   \n",
       "199           10.1007/s10115-011-0400-x   \n",
       "200             10.1145/3287560.3287589   \n",
       "201          10.1007/S10479-021-04033-Z   \n",
       "202             10.1145/3295500.3356156   \n",
       "\n",
       "                                                Topics  \\\n",
       "0    [{'topic': 'Neural Network Simulation', 'topic...   \n",
       "1                                                   []   \n",
       "2    [{'topic': 'Supervised learning', 'topicId': '...   \n",
       "3    [{'topic': 'Learnability', 'topicId': '4569', ...   \n",
       "4    [{'topic': 'AdaBoost', 'topicId': '33311', 'ur...   \n",
       "..                                                 ...   \n",
       "198  [{'topic': 'Mathematical optimization', 'topic...   \n",
       "199  [{'topic': 'Time series', 'topicId': '1293', '...   \n",
       "200  [{'topic': 'Fairness measure', 'topicId': '923...   \n",
       "201  [{'topic': 'Algorithm', 'topicId': '305', 'url...   \n",
       "202                                                 []   \n",
       "\n",
       "                                                 Venue  Year  \\\n",
       "0                            IEEE Trans. Evol. Comput.  2000   \n",
       "1                                                       1995   \n",
       "2                                                 ICML  1995   \n",
       "3    30th Annual Symposium on Foundations of Comput...  1989   \n",
       "4                                     Machine Learning  2000   \n",
       "..                                                 ...   ...   \n",
       "198                                          Inf. Sci.  2019   \n",
       "199                  Knowledge and Information Systems  2012   \n",
       "200                                                FAT  2018   \n",
       "201                                              ArXiv  2019   \n",
       "202  Proceedings of the International Conference fo...  2019   \n",
       "\n",
       "                                              Abstract  \n",
       "0    Based on negative correlation learning and evo...  \n",
       "1                                                 None  \n",
       "2                                                 None  \n",
       "3                                                 None  \n",
       "4                                                 None  \n",
       "..                                                 ...  \n",
       "198                                               None  \n",
       "199                                               None  \n",
       "200  Computers are increasingly used to make decisi...  \n",
       "201                                               None  \n",
       "202                                               None  \n",
       "\n",
       "[203 rows x 6 columns]"
      ]
     },
     "execution_count": 27,
     "metadata": {},
     "output_type": "execute_result"
    }
   ],
   "source": [
    "ref_df = pd.DataFrame(ref_list)\n",
    "ref_df"
   ]
  },
  {
   "cell_type": "code",
   "execution_count": 28,
   "metadata": {},
   "outputs": [],
   "source": [
    "ref_df.to_csv('../Data/Influential papers.csv')"
   ]
  },
  {
   "cell_type": "code",
   "execution_count": null,
   "metadata": {},
   "outputs": [],
   "source": []
  }
 ],
 "metadata": {
  "kernelspec": {
   "display_name": "Python 3.8.10 64-bit",
   "language": "python",
   "name": "python3"
  },
  "language_info": {
   "codemirror_mode": {
    "name": "ipython",
    "version": 3
   },
   "file_extension": ".py",
   "mimetype": "text/x-python",
   "name": "python",
   "nbconvert_exporter": "python",
   "pygments_lexer": "ipython3",
   "version": "3.8.10"
  },
  "orig_nbformat": 4,
  "vscode": {
   "interpreter": {
    "hash": "916dbcbb3f70747c44a77c7bcd40155683ae19c65e1c03b4aa3499c5328201f1"
   }
  }
 },
 "nbformat": 4,
 "nbformat_minor": 2
}
