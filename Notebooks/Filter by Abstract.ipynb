{
 "cells": [
  {
   "cell_type": "code",
   "execution_count": 1,
   "id": "b3dfee48",
   "metadata": {},
   "outputs": [],
   "source": [
    "from IPython.display import clear_output\n",
    "import pandas as pd\n",
    "import numpy as np\n",
    "import time"
   ]
  },
  {
   "cell_type": "code",
   "execution_count": 2,
   "id": "ced158b3",
   "metadata": {},
   "outputs": [],
   "source": [
    "# Create dataframe\n",
    "#df = pd.read_csv('../Data/Papers - After Title Filter.csv')\n",
    "#df.drop(['Remove - Title', 'Second Filter'], axis=1, inplace=True)\n",
    "#df['Remove - Abstract'] = None\n",
    "#df = df.sort_values(by='Year')\n",
    "#df = df.reset_index(drop=True)\n",
    "\n",
    "# Get most recent dataframe\n",
    "df = pd.read_csv('../Data/Papers - After Abstract Filter.csv')"
   ]
  },
  {
   "cell_type": "code",
   "execution_count": 3,
   "id": "ce1e34fe",
   "metadata": {},
   "outputs": [
    {
     "data": {
      "text/plain": [
       "13                           supervised tensor learning\n",
       "17    pattern classification by evolutionary rbf net...\n",
       "Name: Title, dtype: object"
      ]
     },
     "execution_count": 3,
     "metadata": {},
     "output_type": "execute_result"
    }
   ],
   "source": [
    "titles = df['Title'].str.lower().str.strip()\n",
    "titles[titles.duplicated(keep='last')]"
   ]
  },
  {
   "cell_type": "code",
   "execution_count": 4,
   "id": "bd84231e",
   "metadata": {},
   "outputs": [],
   "source": [
    "def check_paper(df, i):\n",
    "    \n",
    "    print('\\n\\n\\n\\n\\n')\n",
    "    print(f'Paper: {i}/{df.shape[0]}')\n",
    "    print()\n",
    "    print(df.loc[i,'Title'])\n",
    "    print()\n",
    "    print('Keywords:')\n",
    "    print(df.loc[i,'Keywords'])\n",
    "    print()\n",
    "    print('Abstract:')\n",
    "    print(df.loc[i,'Abstract'])\n",
    "    print('\\n\\n\\n\\n\\n')\n",
    "\n",
    "    time.sleep(2)\n",
    "    remove = input(\"Remove this paper? (0: No, 1:Yes): \")\n",
    "    clear_output(wait=True)\n",
    "    \n",
    "    if remove=='stop':\n",
    "        df.to_csv('../Data/Papers - After Abstract Filter.csv', index=False)\n",
    "        return True\n",
    "    elif remove=='return':\n",
    "        stop = check_paper(df, i-1)\n",
    "        if stop:\n",
    "            return True\n",
    "        check_paper(df, i)\n",
    "        return False\n",
    "    elif remove=='next':\n",
    "        return False\n",
    "    else:\n",
    "        df.loc[i,'Remove - Abstract'] = int(remove)\n",
    "        df.to_csv('../Data/Papers - After Abstract Filter.csv', index=False)        \n",
    "        return False"
   ]
  },
  {
   "cell_type": "code",
   "execution_count": 8,
   "id": "25ecebff",
   "metadata": {
    "scrolled": false
   },
   "outputs": [
    {
     "name": "stdout",
     "output_type": "stream",
     "text": [
      "Removed: 202/390\n",
      "Kept:    188/390\n"
     ]
    }
   ],
   "source": [
    "for i in range(df.shape[0]):\n",
    "    if df.loc[i,'Remove - Abstract']==1 or df.loc[i,'Remove - Abstract']==0:\n",
    "        continue\n",
    "\n",
    "    stop = check_paper(df, i)\n",
    "    if stop:\n",
    "        break\n",
    "        \n",
    "df.to_csv('../Data/Papers - After Abstract Filter.csv', index=False)\n",
    "clear_output(wait=True)\n",
    "\n",
    "proc_total = df[(df['Remove - Abstract']==0) | (df['Remove - Abstract']==1)].shape[0]\n",
    "print(f\"Removed: {df[df['Remove - Abstract']==1].shape[0]}/{proc_total}\")\n",
    "print(f\"Kept:    {df[df['Remove - Abstract']==0].shape[0]}/{proc_total}\")"
   ]
  },
  {
   "cell_type": "code",
   "execution_count": 11,
   "id": "d6dd1dd9",
   "metadata": {},
   "outputs": [],
   "source": [
    "df[df['Remove - Abstract']==0].to_csv('../Data/Papers - After Abstract Filter.csv', index=False)"
   ]
  },
  {
   "cell_type": "code",
   "execution_count": null,
   "id": "dbdad3fe",
   "metadata": {},
   "outputs": [],
   "source": []
  }
 ],
 "metadata": {
  "kernelspec": {
   "display_name": "Python 3 (ipykernel)",
   "language": "python",
   "name": "python3"
  },
  "language_info": {
   "codemirror_mode": {
    "name": "ipython",
    "version": 3
   },
   "file_extension": ".py",
   "mimetype": "text/x-python",
   "name": "python",
   "nbconvert_exporter": "python",
   "pygments_lexer": "ipython3",
   "version": "3.9.7"
  }
 },
 "nbformat": 4,
 "nbformat_minor": 5
}
